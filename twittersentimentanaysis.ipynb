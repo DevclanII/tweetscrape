{
 "cells": [
  {
   "cell_type": "code",
   "execution_count": 1,
   "metadata": {},
   "outputs": [],
   "source": [
    "import tweepy\n",
    "from tweepy import OAuthHandler\n",
    "from textblob import TextBlob as tb\n",
    "#import re\n",
    "import pandas as pd\n",
    "import matplotlib.pyplot as plt\n",
    "#import numpy as np\n",
    "%matplotlib inline"
   ]
  },
  {
   "cell_type": "code",
   "execution_count": 2,
   "metadata": {},
   "outputs": [],
   "source": [
    "consumerKey = 'SV8UUKCsWGbHB0fBG9xEWdDDl'\n",
    "consumerSecret = 'gu7fZc75qzoZ20Cf1Y4FDSBGiX40H5L5dlMhmVqFecMZzUzBuo'\n",
    "accessToken = '1074255938-ea90Lx6fUeZ6MW780cHpmmozr4XDmC47VH4cKpM'\n",
    "accessTokenSecret = 'Npsz59fFPutq2aCbdfO6l0ylYjHZAgZxkojUoWHV8gsIh'\n"
   ]
  },
  {
   "cell_type": "code",
   "execution_count": 3,
   "metadata": {},
   "outputs": [],
   "source": [
    "auth = tweepy.OAuthHandler(consumerKey, consumerSecret)\n",
    "auth.set_access_token(accessToken, accessTokenSecret)\n",
    "api = tweepy.API(auth)"
   ]
  },
  {
   "cell_type": "code",
   "execution_count": 4,
   "metadata": {},
   "outputs": [
    {
     "name": "stdout",
     "output_type": "stream",
     "text": [
      "Enter name of celebrity or brand drake\n",
      "Enter number of tweet to search 100\n"
     ]
    }
   ],
   "source": [
    "searchTweet = input(\"Enter name of celebrity or brand \")\n",
    "NoOfTweets = int(input('Enter number of tweet to search '))\n"
   ]
  },
  {
   "cell_type": "code",
   "execution_count": 5,
   "metadata": {},
   "outputs": [],
   "source": [
    "\n",
    "tweets = tweepy.Cursor(api.search, q=searchTweet).items(NoOfTweets)\n",
    "data=[]"
   ]
  },
  {
   "cell_type": "code",
   "execution_count": 6,
   "metadata": {
    "scrolled": false
   },
   "outputs": [],
   "source": [
    "for tweet in tweets:\n",
    "    text=tweet.text\n",
    "    tweet_time = tweet.created_at\n",
    "    textWords=text\n",
    "    #cleanedTweet=' '.join(re.sub(\"(@[A-Za-z0-9]+)|([^0-9A-Za-z \\t])|(\\w+:\\/\\/\\S+)|(RT)\", \" \", text).split())\n",
    "    #cleanedTweet = ' '.join(re.sub()\n",
    "   # print (cleanedTweet)\n",
    "    #print(textWords)\n",
    "\n",
    "    #analysis= tb(cleanedTweet)\n",
    "    analysis = tb(textWords)\n",
    "    #print (analysis.sentiment)\n",
    "    polarity = 'Positive'\n",
    "    if(analysis.sentiment.polarity < 0):\n",
    "        polarity = 'Negative'\n",
    "    if(0<=analysis.sentiment.polarity <=0.2):\n",
    "        polarity = 'Neutral'\n",
    "    \n",
    "    dic={}\n",
    "    dic['Sentiment']=polarity\n",
    "    #dic['Tweet']=cleanedTweet\n",
    "    dic['Tweet'] = textWords\n",
    "    dic['Tweettime'] = tweet_time\n",
    "    data.append(dic)\n",
    "df=pd.DataFrame(data)\n",
    "df.to_csv('devclan.csv')"
   ]
  },
  {
   "cell_type": "code",
   "execution_count": 7,
   "metadata": {},
   "outputs": [],
   "source": [
    "train = pd.read_csv('devclan.csv',index_col=0)"
   ]
  },
  {
   "cell_type": "code",
   "execution_count": 8,
   "metadata": {},
   "outputs": [
    {
     "data": {
      "text/plain": [
       "(100, 3)"
      ]
     },
     "execution_count": 8,
     "metadata": {},
     "output_type": "execute_result"
    }
   ],
   "source": [
    "train.shape"
   ]
  },
  {
   "cell_type": "code",
   "execution_count": 9,
   "metadata": {},
   "outputs": [
    {
     "data": {
      "text/html": [
       "<div>\n",
       "<style scoped>\n",
       "    .dataframe tbody tr th:only-of-type {\n",
       "        vertical-align: middle;\n",
       "    }\n",
       "\n",
       "    .dataframe tbody tr th {\n",
       "        vertical-align: top;\n",
       "    }\n",
       "\n",
       "    .dataframe thead th {\n",
       "        text-align: right;\n",
       "    }\n",
       "</style>\n",
       "<table border=\"1\" class=\"dataframe\">\n",
       "  <thead>\n",
       "    <tr style=\"text-align: right;\">\n",
       "      <th></th>\n",
       "      <th>Sentiment</th>\n",
       "      <th>Tweet</th>\n",
       "      <th>Tweettime</th>\n",
       "    </tr>\n",
       "  </thead>\n",
       "  <tbody>\n",
       "    <tr>\n",
       "      <th>0</th>\n",
       "      <td>Neutral</td>\n",
       "      <td>Drake don't got nothin' on this kid https://t....</td>\n",
       "      <td>2018-07-23 09:26:56</td>\n",
       "    </tr>\n",
       "    <tr>\n",
       "      <th>1</th>\n",
       "      <td>Neutral</td>\n",
       "      <td>RT @WORLDWIDENM: #FEFE dethroned Drake on the ...</td>\n",
       "      <td>2018-07-23 09:26:54</td>\n",
       "    </tr>\n",
       "    <tr>\n",
       "      <th>2</th>\n",
       "      <td>Neutral</td>\n",
       "      <td>@jumpman_jayy Take Care - Drake\\nForest Hills ...</td>\n",
       "      <td>2018-07-23 09:26:54</td>\n",
       "    </tr>\n",
       "    <tr>\n",
       "      <th>3</th>\n",
       "      <td>Negative</td>\n",
       "      <td>RT @SimoneAndPumbaa: Her move when Drake says ...</td>\n",
       "      <td>2018-07-23 09:26:53</td>\n",
       "    </tr>\n",
       "    <tr>\n",
       "      <th>4</th>\n",
       "      <td>Neutral</td>\n",
       "      <td>😂😂😂😂😂😂😂😂😂😂😂😂 alright drake head ass https://t....</td>\n",
       "      <td>2018-07-23 09:26:52</td>\n",
       "    </tr>\n",
       "    <tr>\n",
       "      <th>5</th>\n",
       "      <td>Neutral</td>\n",
       "      <td>RT @vxtakaki: drake  ja dizia:\\n\\nfoi mal ae p...</td>\n",
       "      <td>2018-07-23 09:26:51</td>\n",
       "    </tr>\n",
       "    <tr>\n",
       "      <th>6</th>\n",
       "      <td>Positive</td>\n",
       "      <td>RT @WSHHRAP: Rap artists with the most Grammy ...</td>\n",
       "      <td>2018-07-23 09:26:46</td>\n",
       "    </tr>\n",
       "    <tr>\n",
       "      <th>7</th>\n",
       "      <td>Neutral</td>\n",
       "      <td>RT @benhatem_walid: Drake fait des dégâts... 😱...</td>\n",
       "      <td>2018-07-23 09:26:43</td>\n",
       "    </tr>\n",
       "    <tr>\n",
       "      <th>8</th>\n",
       "      <td>Neutral</td>\n",
       "      <td>RT @MUFFINftPIZZA: SOY DE LA EPOCA DE BIG TIME...</td>\n",
       "      <td>2018-07-23 09:26:43</td>\n",
       "    </tr>\n",
       "    <tr>\n",
       "      <th>9</th>\n",
       "      <td>Negative</td>\n",
       "      <td>with the next episode in the Uncharted: Drake'...</td>\n",
       "      <td>2018-07-23 09:26:38</td>\n",
       "    </tr>\n",
       "    <tr>\n",
       "      <th>10</th>\n",
       "      <td>Negative</td>\n",
       "      <td>RT @SimoneAndPumbaa: Her move when Drake says ...</td>\n",
       "      <td>2018-07-23 09:26:38</td>\n",
       "    </tr>\n",
       "    <tr>\n",
       "      <th>11</th>\n",
       "      <td>Neutral</td>\n",
       "      <td>RT @TommySobiesski: me: I’m definitely not dri...</td>\n",
       "      <td>2018-07-23 09:26:36</td>\n",
       "    </tr>\n",
       "    <tr>\n",
       "      <th>12</th>\n",
       "      <td>Positive</td>\n",
       "      <td>RT @savmarshall15: When Drake said “The Fitnes...</td>\n",
       "      <td>2018-07-23 09:26:33</td>\n",
       "    </tr>\n",
       "    <tr>\n",
       "      <th>13</th>\n",
       "      <td>Negative</td>\n",
       "      <td>RT @SimoneAndPumbaa: Her move when Drake says ...</td>\n",
       "      <td>2018-07-23 09:26:32</td>\n",
       "    </tr>\n",
       "    <tr>\n",
       "      <th>14</th>\n",
       "      <td>Positive</td>\n",
       "      <td>RT @SOMEXlCAN: When Mexican moms love Drake #I...</td>\n",
       "      <td>2018-07-23 09:26:32</td>\n",
       "    </tr>\n",
       "    <tr>\n",
       "      <th>15</th>\n",
       "      <td>Negative</td>\n",
       "      <td>RT @97preme: “Michael Jackson could’ve came a ...</td>\n",
       "      <td>2018-07-23 09:26:31</td>\n",
       "    </tr>\n",
       "    <tr>\n",
       "      <th>16</th>\n",
       "      <td>Neutral</td>\n",
       "      <td>RT @arianasixgod: kayne and drake: i am a god ...</td>\n",
       "      <td>2018-07-23 09:26:28</td>\n",
       "    </tr>\n",
       "    <tr>\n",
       "      <th>17</th>\n",
       "      <td>Neutral</td>\n",
       "      <td>RT @ChildhoodShows: The first and last Drake &amp;...</td>\n",
       "      <td>2018-07-23 09:26:26</td>\n",
       "    </tr>\n",
       "    <tr>\n",
       "      <th>18</th>\n",
       "      <td>Neutral</td>\n",
       "      <td>RT @MUFFINftPIZZA: SOY DE LA EPOCA DE BIG TIME...</td>\n",
       "      <td>2018-07-23 09:26:24</td>\n",
       "    </tr>\n",
       "    <tr>\n",
       "      <th>19</th>\n",
       "      <td>Neutral</td>\n",
       "      <td>RT @FunnyBIacks: See what Shiggy and Drake don...</td>\n",
       "      <td>2018-07-23 09:26:24</td>\n",
       "    </tr>\n",
       "  </tbody>\n",
       "</table>\n",
       "</div>"
      ],
      "text/plain": [
       "   Sentiment                                              Tweet  \\\n",
       "0    Neutral  Drake don't got nothin' on this kid https://t....   \n",
       "1    Neutral  RT @WORLDWIDENM: #FEFE dethroned Drake on the ...   \n",
       "2    Neutral  @jumpman_jayy Take Care - Drake\\nForest Hills ...   \n",
       "3   Negative  RT @SimoneAndPumbaa: Her move when Drake says ...   \n",
       "4    Neutral  😂😂😂😂😂😂😂😂😂😂😂😂 alright drake head ass https://t....   \n",
       "5    Neutral  RT @vxtakaki: drake  ja dizia:\\n\\nfoi mal ae p...   \n",
       "6   Positive  RT @WSHHRAP: Rap artists with the most Grammy ...   \n",
       "7    Neutral  RT @benhatem_walid: Drake fait des dégâts... 😱...   \n",
       "8    Neutral  RT @MUFFINftPIZZA: SOY DE LA EPOCA DE BIG TIME...   \n",
       "9   Negative  with the next episode in the Uncharted: Drake'...   \n",
       "10  Negative  RT @SimoneAndPumbaa: Her move when Drake says ...   \n",
       "11   Neutral  RT @TommySobiesski: me: I’m definitely not dri...   \n",
       "12  Positive  RT @savmarshall15: When Drake said “The Fitnes...   \n",
       "13  Negative  RT @SimoneAndPumbaa: Her move when Drake says ...   \n",
       "14  Positive  RT @SOMEXlCAN: When Mexican moms love Drake #I...   \n",
       "15  Negative  RT @97preme: “Michael Jackson could’ve came a ...   \n",
       "16   Neutral  RT @arianasixgod: kayne and drake: i am a god ...   \n",
       "17   Neutral  RT @ChildhoodShows: The first and last Drake &...   \n",
       "18   Neutral  RT @MUFFINftPIZZA: SOY DE LA EPOCA DE BIG TIME...   \n",
       "19   Neutral  RT @FunnyBIacks: See what Shiggy and Drake don...   \n",
       "\n",
       "              Tweettime  \n",
       "0   2018-07-23 09:26:56  \n",
       "1   2018-07-23 09:26:54  \n",
       "2   2018-07-23 09:26:54  \n",
       "3   2018-07-23 09:26:53  \n",
       "4   2018-07-23 09:26:52  \n",
       "5   2018-07-23 09:26:51  \n",
       "6   2018-07-23 09:26:46  \n",
       "7   2018-07-23 09:26:43  \n",
       "8   2018-07-23 09:26:43  \n",
       "9   2018-07-23 09:26:38  \n",
       "10  2018-07-23 09:26:38  \n",
       "11  2018-07-23 09:26:36  \n",
       "12  2018-07-23 09:26:33  \n",
       "13  2018-07-23 09:26:32  \n",
       "14  2018-07-23 09:26:32  \n",
       "15  2018-07-23 09:26:31  \n",
       "16  2018-07-23 09:26:28  \n",
       "17  2018-07-23 09:26:26  \n",
       "18  2018-07-23 09:26:24  \n",
       "19  2018-07-23 09:26:24  "
      ]
     },
     "execution_count": 9,
     "metadata": {},
     "output_type": "execute_result"
    }
   ],
   "source": [
    "train.head(20)"
   ]
  },
  {
   "cell_type": "code",
   "execution_count": 10,
   "metadata": {},
   "outputs": [
    {
     "data": {
      "text/html": [
       "<div>\n",
       "<style scoped>\n",
       "    .dataframe tbody tr th:only-of-type {\n",
       "        vertical-align: middle;\n",
       "    }\n",
       "\n",
       "    .dataframe tbody tr th {\n",
       "        vertical-align: top;\n",
       "    }\n",
       "\n",
       "    .dataframe thead th {\n",
       "        text-align: right;\n",
       "    }\n",
       "</style>\n",
       "<table border=\"1\" class=\"dataframe\">\n",
       "  <thead>\n",
       "    <tr style=\"text-align: right;\">\n",
       "      <th></th>\n",
       "      <th>Sentiment</th>\n",
       "      <th>Tweet</th>\n",
       "      <th>Tweettime</th>\n",
       "    </tr>\n",
       "  </thead>\n",
       "  <tbody>\n",
       "    <tr>\n",
       "      <th>count</th>\n",
       "      <td>100</td>\n",
       "      <td>100</td>\n",
       "      <td>100</td>\n",
       "    </tr>\n",
       "    <tr>\n",
       "      <th>unique</th>\n",
       "      <td>3</td>\n",
       "      <td>61</td>\n",
       "      <td>70</td>\n",
       "    </tr>\n",
       "    <tr>\n",
       "      <th>top</th>\n",
       "      <td>Neutral</td>\n",
       "      <td>RT @SimoneAndPumbaa: Her move when Drake says ...</td>\n",
       "      <td>2018-07-23 09:25:52</td>\n",
       "    </tr>\n",
       "    <tr>\n",
       "      <th>freq</th>\n",
       "      <td>67</td>\n",
       "      <td>8</td>\n",
       "      <td>3</td>\n",
       "    </tr>\n",
       "  </tbody>\n",
       "</table>\n",
       "</div>"
      ],
      "text/plain": [
       "       Sentiment                                              Tweet  \\\n",
       "count        100                                                100   \n",
       "unique         3                                                 61   \n",
       "top      Neutral  RT @SimoneAndPumbaa: Her move when Drake says ...   \n",
       "freq          67                                                  8   \n",
       "\n",
       "                  Tweettime  \n",
       "count                   100  \n",
       "unique                   70  \n",
       "top     2018-07-23 09:25:52  \n",
       "freq                      3  "
      ]
     },
     "execution_count": 10,
     "metadata": {},
     "output_type": "execute_result"
    }
   ],
   "source": [
    "train.describe()"
   ]
  },
  {
   "cell_type": "code",
   "execution_count": 11,
   "metadata": {},
   "outputs": [],
   "source": [
    "#print(list(train['Tweet']))"
   ]
  },
  {
   "cell_type": "code",
   "execution_count": 12,
   "metadata": {},
   "outputs": [],
   "source": [
    "positive = train['Sentiment'] == 'Positive'\n",
    "negative = train['Sentiment'] == 'Negative'\n",
    "neutral = train['Sentiment'] == 'Neutral'\n",
    "time = train['Tweettime']\n",
    "Sentiment = train['Sentiment']"
   ]
  },
  {
   "cell_type": "code",
   "execution_count": 13,
   "metadata": {},
   "outputs": [],
   "source": [
    "#label = []\n",
    "#label.append"
   ]
  },
  {
   "cell_type": "code",
   "execution_count": 14,
   "metadata": {},
   "outputs": [
    {
     "data": {
      "text/plain": [
       "False    81\n",
       "True     19\n",
       "Name: Sentiment, dtype: int64"
      ]
     },
     "execution_count": 14,
     "metadata": {},
     "output_type": "execute_result"
    }
   ],
   "source": [
    "positive.value_counts()"
   ]
  },
  {
   "cell_type": "code",
   "execution_count": 15,
   "metadata": {},
   "outputs": [
    {
     "data": {
      "text/plain": [
       "False    86\n",
       "True     14\n",
       "Name: Sentiment, dtype: int64"
      ]
     },
     "execution_count": 15,
     "metadata": {},
     "output_type": "execute_result"
    }
   ],
   "source": [
    "negative.value_counts()\n"
   ]
  },
  {
   "cell_type": "code",
   "execution_count": 16,
   "metadata": {},
   "outputs": [
    {
     "data": {
      "text/plain": [
       "True     67\n",
       "False    33\n",
       "Name: Sentiment, dtype: int64"
      ]
     },
     "execution_count": 16,
     "metadata": {},
     "output_type": "execute_result"
    }
   ],
   "source": [
    "neutral.value_counts()"
   ]
  },
  {
   "cell_type": "code",
   "execution_count": null,
   "metadata": {},
   "outputs": [],
   "source": []
  },
  {
   "cell_type": "code",
   "execution_count": 17,
   "metadata": {},
   "outputs": [],
   "source": [
    "#train[\"Sentiment\"][train[\"Sentiment\"] == \"Positive\"] = 1\n",
    "#train['Sentiment'][train['Sentiment'] == 'Negative' ] = 2\n",
    "#train['Sentiment'][train['Sentiment'] == 'Neutral' ] = 0\n",
    "\n"
   ]
  },
  {
   "cell_type": "code",
   "execution_count": 18,
   "metadata": {},
   "outputs": [],
   "source": [
    "#plt.xlabel = 'Sentiment'\n",
    "#plt.ylabel = 'tweettime'\n",
    "#color_pla = {\"Positive\":\"red\", \"Negative\": \"green\", \"Neutral\":\"blue\"}\n",
    "\n",
    "#plt.scatter( Sentiment,time, color=[color_pla[i] for i in train['Sentiment']])\n",
    "#plt.show()"
   ]
  },
  {
   "cell_type": "code",
   "execution_count": 19,
   "metadata": {},
   "outputs": [
    {
     "name": "stdout",
     "output_type": "stream",
     "text": [
      "['Positive', 'Negative', 'Neutral']\n"
     ]
    }
   ],
   "source": [
    "size = train['Sentiment'].value_counts().tolist()\n",
    "#print(size)\n",
    "sice = Sentiment.tolist()\n",
    "labels = list(set(sice))\n",
    "print(labels)"
   ]
  },
  {
   "cell_type": "code",
   "execution_count": 20,
   "metadata": {},
   "outputs": [],
   "source": [
    "#labels = ['Neutral', 'Postive', 'Negative']\n",
    "colors = ['yellow', 'blue', 'red']\n",
    "explode = (0.1, 0.1, 0.1)\n",
    "explode_list = list(explode)\n",
    "if len(labels) == 2:\n",
    "    colors = colors[:2]\n",
    "    explode = explode[:2]\n",
    "elif len(labels) == 3:\n",
    "    colors = colors\n",
    "    explode = explode\n",
    "elif len(labels) == 1:\n",
    "    colors = colors[:1]\n",
    "    explode = explode[:1]"
   ]
  },
  {
   "cell_type": "code",
   "execution_count": 21,
   "metadata": {},
   "outputs": [
    {
     "data": {
      "image/png": "[encoded data removed]",
      "text/plain": [
       "<Figure size 432x288 with 1 Axes>"
      ]
     },
     "metadata": {},
     "output_type": "display_data"
    }
   ],
   "source": [
    "plt.pie(size, colors=colors, labels=labels, shadow=True, startangle= 90, autopct='%1.1f%%', explode = explode)\n",
    "plt.legend(labels)\n",
    "plt.show()"
   ]
  },
  {
   "cell_type": "code",
   "execution_count": null,
   "metadata": {},
   "outputs": [],
   "source": []
  },
  {
   "cell_type": "code",
   "execution_count": null,
   "metadata": {},
   "outputs": [],
   "source": []
  }
 ],
 "metadata": {
  "kernelspec": {
   "display_name": "Python 3",
   "language": "python",
   "name": "python3"
  },
  "language_info": {
   "codemirror_mode": {
    "name": "ipython",
    "version": 3
   },
   "file_extension": ".py",
   "mimetype": "text/x-python",
   "name": "python",
   "nbconvert_exporter": "python",
   "pygments_lexer": "ipython3",
   "version": "3.6.5"
  }
 },
 "nbformat": 4,
 "nbformat_minor": 2
}
