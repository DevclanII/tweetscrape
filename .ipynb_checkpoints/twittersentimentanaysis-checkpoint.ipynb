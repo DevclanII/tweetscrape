{
 "cells": [
  {
   "cell_type": "code",
   "execution_count": 1,
   "metadata": {},
   "outputs": [],
   "source": [
    "import tweepy\n",
    "from tweepy import OAuthHandler\n",
    "from textblob import TextBlob as tb\n",
    "import csv\n",
    "import re\n",
    "import pandas as pd\n",
    "import matplotlib.pyplot as plt\n",
    "import numpy as np\n",
    "%matplotlib inline"
   ]
  },
  {
   "cell_type": "code",
   "execution_count": 2,
   "metadata": {},
   "outputs": [],
   "source": [
    "consumerKey = 'SV8UUKCsWGbHB0fBG9xEWdDDl'\n",
    "consumerSecret = 'gu7fZc75qzoZ20Cf1Y4FDSBGiX40H5L5dlMhmVqFecMZzUzBuo'\n",
    "accessToken = '1074255938-ea90Lx6fUeZ6MW780cHpmmozr4XDmC47VH4cKpM'\n",
    "accessTokenSecret = 'Npsz59fFPutq2aCbdfO6l0ylYjHZAgZxkojUoWHV8gsIh'\n"
   ]
  },
  {
   "cell_type": "code",
   "execution_count": 3,
   "metadata": {},
   "outputs": [],
   "source": [
    "auth = tweepy.OAuthHandler(consumerKey, consumerSecret)\n",
    "auth.set_access_token(accessToken, accessTokenSecret)\n",
    "api = tweepy.API(auth)"
   ]
  },
  {
   "cell_type": "code",
   "execution_count": 111,
   "metadata": {},
   "outputs": [
    {
     "name": "stdout",
     "output_type": "stream",
     "text": [
      "Enter name of celebrity or brand drake\n",
      "Enter number of tweet to search 1\n"
     ]
    }
   ],
   "source": [
    "searchTweet = input(\"Enter name of celebrity or brand \")\n",
    "NoOfTweets = int(input('Enter number of tweet to search '))\n"
   ]
  },
  {
   "cell_type": "code",
   "execution_count": 112,
   "metadata": {},
   "outputs": [],
   "source": [
    "\n",
    "tweets = tweepy.Cursor(api.search, q=searchTweet).items(NoOfTweets)\n",
    "data=[]"
   ]
  },
  {
   "cell_type": "code",
   "execution_count": 130,
   "metadata": {
    "scrolled": false
   },
   "outputs": [],
   "source": [
    "for tweet in tweets:\n",
    "    text=tweet.text\n",
    "    tweet_time = tweet.created_at\n",
    "    textWords=text\n",
    "    #cleanedTweet=' '.join(re.sub(\"(@[A-Za-z0-9]+)|([^0-9A-Za-z \\t])|(\\w+:\\/\\/\\S+)|(RT)\", \" \", text).split())\n",
    "    #cleanedTweet = ' '.join(re.sub()\n",
    "   # print (cleanedTweet)\n",
    "    #print(textWords)\n",
    "\n",
    "    #analysis= tb(cleanedTweet)\n",
    "    analysis = tb(textWords)\n",
    "    #print (analysis.sentiment)\n",
    "    polarity = 'Positive'\n",
    "    if(analysis.sentiment.polarity < 0):\n",
    "        polarity = 'Negative'\n",
    "    if(0<=analysis.sentiment.polarity <=0.2):\n",
    "        polarity = 'Neutral'\n",
    "    \n",
    "    dic={}\n",
    "    dic['Sentiment']=polarity\n",
    "    #dic['Tweet']=cleanedTweet\n",
    "    dic['Tweet'] = textWords\n",
    "    dic['Tweettime'] = tweet_time\n",
    "    data.append(dic)\n",
    "df=pd.DataFrame(data)\n",
    "df.to_csv('devclan.csv')"
   ]
  },
  {
   "cell_type": "code",
   "execution_count": 115,
   "metadata": {},
   "outputs": [],
   "source": [
    "train = pd.read_csv('devclan.csv',index_col=0)"
   ]
  },
  {
   "cell_type": "code",
   "execution_count": 116,
   "metadata": {},
   "outputs": [
    {
     "data": {
      "text/plain": [
       "(1, 3)"
      ]
     },
     "execution_count": 116,
     "metadata": {},
     "output_type": "execute_result"
    }
   ],
   "source": [
    "train.shape"
   ]
  },
  {
   "cell_type": "code",
   "execution_count": 117,
   "metadata": {},
   "outputs": [
    {
     "data": {
      "text/html": [
       "<div>\n",
       "<style scoped>\n",
       "    .dataframe tbody tr th:only-of-type {\n",
       "        vertical-align: middle;\n",
       "    }\n",
       "\n",
       "    .dataframe tbody tr th {\n",
       "        vertical-align: top;\n",
       "    }\n",
       "\n",
       "    .dataframe thead th {\n",
       "        text-align: right;\n",
       "    }\n",
       "</style>\n",
       "<table border=\"1\" class=\"dataframe\">\n",
       "  <thead>\n",
       "    <tr style=\"text-align: right;\">\n",
       "      <th></th>\n",
       "      <th>Sentiment</th>\n",
       "      <th>Tweet</th>\n",
       "      <th>Tweettime</th>\n",
       "    </tr>\n",
       "  </thead>\n",
       "  <tbody>\n",
       "    <tr>\n",
       "      <th>0</th>\n",
       "      <td>Neutral</td>\n",
       "      <td>RT @pyewaw: 50 Cent Vs Floyd Mayweather,the ho...</td>\n",
       "      <td>2018-07-21 21:52:54</td>\n",
       "    </tr>\n",
       "  </tbody>\n",
       "</table>\n",
       "</div>"
      ],
      "text/plain": [
       "  Sentiment                                              Tweet  \\\n",
       "0   Neutral  RT @pyewaw: 50 Cent Vs Floyd Mayweather,the ho...   \n",
       "\n",
       "             Tweettime  \n",
       "0  2018-07-21 21:52:54  "
      ]
     },
     "execution_count": 117,
     "metadata": {},
     "output_type": "execute_result"
    }
   ],
   "source": [
    "train.head(20)"
   ]
  },
  {
   "cell_type": "code",
   "execution_count": 118,
   "metadata": {},
   "outputs": [
    {
     "data": {
      "text/html": [
       "<div>\n",
       "<style scoped>\n",
       "    .dataframe tbody tr th:only-of-type {\n",
       "        vertical-align: middle;\n",
       "    }\n",
       "\n",
       "    .dataframe tbody tr th {\n",
       "        vertical-align: top;\n",
       "    }\n",
       "\n",
       "    .dataframe thead th {\n",
       "        text-align: right;\n",
       "    }\n",
       "</style>\n",
       "<table border=\"1\" class=\"dataframe\">\n",
       "  <thead>\n",
       "    <tr style=\"text-align: right;\">\n",
       "      <th></th>\n",
       "      <th>Sentiment</th>\n",
       "      <th>Tweet</th>\n",
       "      <th>Tweettime</th>\n",
       "    </tr>\n",
       "  </thead>\n",
       "  <tbody>\n",
       "    <tr>\n",
       "      <th>count</th>\n",
       "      <td>1</td>\n",
       "      <td>1</td>\n",
       "      <td>1</td>\n",
       "    </tr>\n",
       "    <tr>\n",
       "      <th>unique</th>\n",
       "      <td>1</td>\n",
       "      <td>1</td>\n",
       "      <td>1</td>\n",
       "    </tr>\n",
       "    <tr>\n",
       "      <th>top</th>\n",
       "      <td>Neutral</td>\n",
       "      <td>RT @pyewaw: 50 Cent Vs Floyd Mayweather,the ho...</td>\n",
       "      <td>2018-07-21 21:52:54</td>\n",
       "    </tr>\n",
       "    <tr>\n",
       "      <th>freq</th>\n",
       "      <td>1</td>\n",
       "      <td>1</td>\n",
       "      <td>1</td>\n",
       "    </tr>\n",
       "  </tbody>\n",
       "</table>\n",
       "</div>"
      ],
      "text/plain": [
       "       Sentiment                                              Tweet  \\\n",
       "count          1                                                  1   \n",
       "unique         1                                                  1   \n",
       "top      Neutral  RT @pyewaw: 50 Cent Vs Floyd Mayweather,the ho...   \n",
       "freq           1                                                  1   \n",
       "\n",
       "                  Tweettime  \n",
       "count                     1  \n",
       "unique                    1  \n",
       "top     2018-07-21 21:52:54  \n",
       "freq                      1  "
      ]
     },
     "execution_count": 118,
     "metadata": {},
     "output_type": "execute_result"
    }
   ],
   "source": [
    "train.describe()"
   ]
  },
  {
   "cell_type": "code",
   "execution_count": 119,
   "metadata": {},
   "outputs": [],
   "source": [
    "#print(list(train['Tweet']))"
   ]
  },
  {
   "cell_type": "code",
   "execution_count": 120,
   "metadata": {},
   "outputs": [],
   "source": [
    "positive = train['Sentiment'] == 'Positive'\n",
    "negative = train['Sentiment'] == 'Negative'\n",
    "neutral = train['Sentiment'] == 'Neutral'\n",
    "time = train['Tweettime']\n",
    "Sentiment = train['Sentiment']"
   ]
  },
  {
   "cell_type": "code",
   "execution_count": 121,
   "metadata": {},
   "outputs": [],
   "source": [
    "#label = []\n",
    "#label.append"
   ]
  },
  {
   "cell_type": "code",
   "execution_count": 122,
   "metadata": {},
   "outputs": [
    {
     "data": {
      "text/plain": [
       "False    1\n",
       "Name: Sentiment, dtype: int64"
      ]
     },
     "execution_count": 122,
     "metadata": {},
     "output_type": "execute_result"
    }
   ],
   "source": [
    "positive.value_counts()"
   ]
  },
  {
   "cell_type": "code",
   "execution_count": 123,
   "metadata": {},
   "outputs": [
    {
     "data": {
      "text/plain": [
       "False    1\n",
       "Name: Sentiment, dtype: int64"
      ]
     },
     "execution_count": 123,
     "metadata": {},
     "output_type": "execute_result"
    }
   ],
   "source": [
    "negative.value_counts()\n"
   ]
  },
  {
   "cell_type": "code",
   "execution_count": 124,
   "metadata": {},
   "outputs": [
    {
     "data": {
      "text/plain": [
       "True    1\n",
       "Name: Sentiment, dtype: int64"
      ]
     },
     "execution_count": 124,
     "metadata": {},
     "output_type": "execute_result"
    }
   ],
   "source": [
    "neutral.value_counts()"
   ]
  },
  {
   "cell_type": "code",
   "execution_count": null,
   "metadata": {},
   "outputs": [],
   "source": []
  },
  {
   "cell_type": "code",
   "execution_count": 125,
   "metadata": {},
   "outputs": [],
   "source": [
    "#train[\"Sentiment\"][train[\"Sentiment\"] == \"Positive\"] = 1\n",
    "#train['Sentiment'][train['Sentiment'] == 'Negative' ] = 2\n",
    "#train['Sentiment'][train['Sentiment'] == 'Neutral' ] = 0\n",
    "\n"
   ]
  },
  {
   "cell_type": "code",
   "execution_count": 126,
   "metadata": {},
   "outputs": [],
   "source": [
    "#plt.xlabel = 'Sentiment'\n",
    "#plt.ylabel = 'tweettime'\n",
    "#color_pla = {\"Positive\":\"red\", \"Negative\": \"green\", \"Neutral\":\"blue\"}\n",
    "\n",
    "#plt.scatter( Sentiment,time, color=[color_pla[i] for i in train['Sentiment']])\n",
    "#plt.show()"
   ]
  },
  {
   "cell_type": "code",
   "execution_count": 127,
   "metadata": {},
   "outputs": [
    {
     "name": "stdout",
     "output_type": "stream",
     "text": [
      "['Neutral']\n"
     ]
    }
   ],
   "source": [
    "size = train['Sentiment'].value_counts().tolist()\n",
    "#print(size)\n",
    "sice = Sentiment.tolist()\n",
    "labels = list(set(sice))\n",
    "print(labels)"
   ]
  },
  {
   "cell_type": "code",
   "execution_count": 128,
   "metadata": {},
   "outputs": [],
   "source": [
    "#labels = ['Neutral', 'Postive', 'Negative']\n",
    "colors = ['yellow', 'blue', 'red']\n",
    "explode = (0.1, 0.1, 0.1)\n",
    "explode_list = list(explode)\n",
    "if len(labels) == 2:\n",
    "    colors = colors[:2]\n",
    "    explode = explode[:2]\n",
    "elif len(labels) == 3:\n",
    "    colors = colors\n",
    "    explode = explode\n",
    "elif len(labels) == 1:\n",
    "    colors = colors[:1]\n",
    "    explode = explode[:1]"
   ]
  },
  {
   "cell_type": "code",
   "execution_count": 129,
   "metadata": {},
   "outputs": [
    {
     "data": {
      "image/png": "[encoded data removed]",
      "text/plain": [
       "<Figure size 432x288 with 1 Axes>"
      ]
     },
     "metadata": {},
     "output_type": "display_data"
    }
   ],
   "source": [
    "plt.pie(size, colors=colors, labels=labels, shadow=True, startangle= 90, autopct='%1.1f%%', explode = explode)\n",
    "plt.legend(labels)\n",
    "plt.show()"
   ]
  },
  {
   "cell_type": "code",
   "execution_count": null,
   "metadata": {},
   "outputs": [],
   "source": []
  },
  {
   "cell_type": "code",
   "execution_count": null,
   "metadata": {},
   "outputs": [],
   "source": []
  }
 ],
 "metadata": {
  "kernelspec": {
   "display_name": "Python 3",
   "language": "python",
   "name": "python3"
  },
  "language_info": {
   "codemirror_mode": {
    "name": "ipython",
    "version": 3
   },
   "file_extension": ".py",
   "mimetype": "text/x-python",
   "name": "python",
   "nbconvert_exporter": "python",
   "pygments_lexer": "ipython3",
   "version": "3.6.5"
  }
 },
 "nbformat": 4,
 "nbformat_minor": 2
}
